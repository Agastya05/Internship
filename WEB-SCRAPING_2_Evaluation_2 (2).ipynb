{
 "cells": [
  {
   "cell_type": "code",
   "execution_count": 2,
   "id": "03487137-e82a-4b3b-b7d0-4bc194b891c7",
   "metadata": {},
   "outputs": [
    {
     "name": "stdout",
     "output_type": "stream",
     "text": [
      "Requirement already satisfied: selenium in c:\\users\\admin\\anaconda3\\lib\\site-packages (4.25.0)\n",
      "Requirement already satisfied: urllib3[socks]<3,>=1.26 in c:\\users\\admin\\anaconda3\\lib\\site-packages (from selenium) (1.26.16)\n",
      "Requirement already satisfied: trio~=0.17 in c:\\users\\admin\\anaconda3\\lib\\site-packages (from selenium) (0.26.2)\n",
      "Requirement already satisfied: trio-websocket~=0.9 in c:\\users\\admin\\anaconda3\\lib\\site-packages (from selenium) (0.11.1)\n",
      "Requirement already satisfied: certifi>=2021.10.8 in c:\\users\\admin\\anaconda3\\lib\\site-packages (from selenium) (2023.7.22)\n",
      "Requirement already satisfied: typing_extensions~=4.9 in c:\\users\\admin\\anaconda3\\lib\\site-packages (from selenium) (4.12.2)\n",
      "Requirement already satisfied: websocket-client~=1.8 in c:\\users\\admin\\anaconda3\\lib\\site-packages (from selenium) (1.8.0)\n",
      "Requirement already satisfied: attrs>=23.2.0 in c:\\users\\admin\\anaconda3\\lib\\site-packages (from trio~=0.17->selenium) (24.2.0)\n",
      "Requirement already satisfied: sortedcontainers in c:\\users\\admin\\anaconda3\\lib\\site-packages (from trio~=0.17->selenium) (2.4.0)\n",
      "Requirement already satisfied: idna in c:\\users\\admin\\anaconda3\\lib\\site-packages (from trio~=0.17->selenium) (3.4)\n",
      "Requirement already satisfied: outcome in c:\\users\\admin\\anaconda3\\lib\\site-packages (from trio~=0.17->selenium) (1.3.0.post0)\n",
      "Requirement already satisfied: sniffio>=1.3.0 in c:\\users\\admin\\anaconda3\\lib\\site-packages (from trio~=0.17->selenium) (1.3.1)\n",
      "Requirement already satisfied: cffi>=1.14 in c:\\users\\admin\\anaconda3\\lib\\site-packages (from trio~=0.17->selenium) (1.15.1)\n",
      "Requirement already satisfied: wsproto>=0.14 in c:\\users\\admin\\anaconda3\\lib\\site-packages (from trio-websocket~=0.9->selenium) (1.2.0)\n",
      "Requirement already satisfied: PySocks!=1.5.7,<2.0,>=1.5.6 in c:\\users\\admin\\anaconda3\\lib\\site-packages (from urllib3[socks]<3,>=1.26->selenium) (1.7.1)\n",
      "Requirement already satisfied: pycparser in c:\\users\\admin\\anaconda3\\lib\\site-packages (from cffi>=1.14->trio~=0.17->selenium) (2.21)\n",
      "Requirement already satisfied: h11<1,>=0.9.0 in c:\\users\\admin\\anaconda3\\lib\\site-packages (from wsproto>=0.14->trio-websocket~=0.9->selenium) (0.14.0)\n",
      "Note: you may need to restart the kernel to use updated packages.\n"
     ]
    }
   ],
   "source": [
    "pip install selenium"
   ]
  },
  {
   "cell_type": "code",
   "execution_count": 3,
   "id": "239f839d-127e-45b5-bd28-9c6a33b79799",
   "metadata": {},
   "outputs": [],
   "source": [
    "from selenium import webdriver\n",
    "from selenium.webdriver.common.keys import Keys\n",
    "from selenium.webdriver.common.by import By\n",
    "from selenium.webdriver.support.ui import WebDriverWait\n",
    "from selenium.webdriver.support import expected_conditions as EC\n",
    "import pandas as pd\n",
    "from bs4 import BeautifulSoup"
   ]
  },
  {
   "cell_type": "code",
   "execution_count": 4,
   "id": "fce1d1c5-7ba1-4121-bcdf-23f83e178424",
   "metadata": {},
   "outputs": [],
   "source": [
    "driver = webdriver.Chrome()"
   ]
  },
  {
   "cell_type": "code",
   "execution_count": 8,
   "id": "38130846-1ee1-4bb5-ac15-0988986bdfe4",
   "metadata": {},
   "outputs": [],
   "source": [
    "driver.get(url)"
   ]
  },
  {
   "cell_type": "code",
   "execution_count": 9,
   "id": "21d0ed4e-8f59-4fa9-baf2-4872dc577ba8",
   "metadata": {},
   "outputs": [],
   "source": [
    "url = \"https://www.shine.com/\"\n",
    "driver = webdriver.Chrome()\n",
    "driver.get(url)"
   ]
  },
  {
   "cell_type": "code",
   "execution_count": 13,
   "id": "8f1171e4-6e8f-4115-bc4c-8480f67542b7",
   "metadata": {},
   "outputs": [
    {
     "ename": "NoSuchElementException",
     "evalue": "Message: no such element: Unable to locate element: {\"method\":\"css selector\",\"selector\":\"[id=\"id_job_title_skills\"]\"}\n  (Session info: chrome=128.0.6613.138); For documentation on this error, please visit: https://www.selenium.dev/documentation/webdriver/troubleshooting/errors#no-such-element-exception\nStacktrace:\n\tGetHandleVerifier [0x00007FF774439412+29090]\n\t(No symbol) [0x00007FF7743AE239]\n\t(No symbol) [0x00007FF77426B1DA]\n\t(No symbol) [0x00007FF7742BEFE7]\n\t(No symbol) [0x00007FF7742BF23C]\n\t(No symbol) [0x00007FF7743097C7]\n\t(No symbol) [0x00007FF7742E672F]\n\t(No symbol) [0x00007FF7743065A2]\n\t(No symbol) [0x00007FF7742E6493]\n\t(No symbol) [0x00007FF7742B09D1]\n\t(No symbol) [0x00007FF7742B1B31]\n\tGetHandleVerifier [0x00007FF77475871D+3302573]\n\tGetHandleVerifier [0x00007FF7747A4243+3612627]\n\tGetHandleVerifier [0x00007FF77479A417+3572135]\n\tGetHandleVerifier [0x00007FF7744F5EB6+801862]\n\t(No symbol) [0x00007FF7743B945F]\n\t(No symbol) [0x00007FF7743B4FB4]\n\t(No symbol) [0x00007FF7743B5140]\n\t(No symbol) [0x00007FF7743A461F]\n\tBaseThreadInitThunk [0x00007FF902BB257D+29]\n\tRtlUserThreadStart [0x00007FF90374AF28+40]\n",
     "output_type": "error",
     "traceback": [
      "\u001b[1;31m---------------------------------------------------------------------------\u001b[0m",
      "\u001b[1;31mNoSuchElementException\u001b[0m                    Traceback (most recent call last)",
      "Cell \u001b[1;32mIn[13], line 3\u001b[0m\n\u001b[0;32m      1\u001b[0m \u001b[38;5;28;01mfrom\u001b[39;00m \u001b[38;5;21;01mselenium\u001b[39;00m\u001b[38;5;21;01m.\u001b[39;00m\u001b[38;5;21;01mwebdriver\u001b[39;00m\u001b[38;5;21;01m.\u001b[39;00m\u001b[38;5;21;01mcommon\u001b[39;00m\u001b[38;5;21;01m.\u001b[39;00m\u001b[38;5;21;01mby\u001b[39;00m \u001b[38;5;28;01mimport\u001b[39;00m By\n\u001b[1;32m----> 3\u001b[0m job_title_field \u001b[38;5;241m=\u001b[39m driver\u001b[38;5;241m.\u001b[39mfind_element(By\u001b[38;5;241m.\u001b[39mID, \u001b[38;5;124m\"\u001b[39m\u001b[38;5;124mid_job_title_skills\u001b[39m\u001b[38;5;124m\"\u001b[39m)\n\u001b[0;32m      4\u001b[0m job_title_field\u001b[38;5;241m.\u001b[39msend_keys(\u001b[38;5;124m\"\u001b[39m\u001b[38;5;124mData Scientist\u001b[39m\u001b[38;5;124m\"\u001b[39m)\n",
      "File \u001b[1;32m~\\anaconda3\\Lib\\site-packages\\selenium\\webdriver\\remote\\webdriver.py:748\u001b[0m, in \u001b[0;36mWebDriver.find_element\u001b[1;34m(self, by, value)\u001b[0m\n\u001b[0;32m    745\u001b[0m     by \u001b[38;5;241m=\u001b[39m By\u001b[38;5;241m.\u001b[39mCSS_SELECTOR\n\u001b[0;32m    746\u001b[0m     value \u001b[38;5;241m=\u001b[39m \u001b[38;5;124mf\u001b[39m\u001b[38;5;124m'\u001b[39m\u001b[38;5;124m[name=\u001b[39m\u001b[38;5;124m\"\u001b[39m\u001b[38;5;132;01m{\u001b[39;00mvalue\u001b[38;5;132;01m}\u001b[39;00m\u001b[38;5;124m\"\u001b[39m\u001b[38;5;124m]\u001b[39m\u001b[38;5;124m'\u001b[39m\n\u001b[1;32m--> 748\u001b[0m \u001b[38;5;28;01mreturn\u001b[39;00m \u001b[38;5;28mself\u001b[39m\u001b[38;5;241m.\u001b[39mexecute(Command\u001b[38;5;241m.\u001b[39mFIND_ELEMENT, {\u001b[38;5;124m\"\u001b[39m\u001b[38;5;124musing\u001b[39m\u001b[38;5;124m\"\u001b[39m: by, \u001b[38;5;124m\"\u001b[39m\u001b[38;5;124mvalue\u001b[39m\u001b[38;5;124m\"\u001b[39m: value})[\u001b[38;5;124m\"\u001b[39m\u001b[38;5;124mvalue\u001b[39m\u001b[38;5;124m\"\u001b[39m]\n",
      "File \u001b[1;32m~\\anaconda3\\Lib\\site-packages\\selenium\\webdriver\\remote\\webdriver.py:354\u001b[0m, in \u001b[0;36mWebDriver.execute\u001b[1;34m(self, driver_command, params)\u001b[0m\n\u001b[0;32m    352\u001b[0m response \u001b[38;5;241m=\u001b[39m \u001b[38;5;28mself\u001b[39m\u001b[38;5;241m.\u001b[39mcommand_executor\u001b[38;5;241m.\u001b[39mexecute(driver_command, params)\n\u001b[0;32m    353\u001b[0m \u001b[38;5;28;01mif\u001b[39;00m response:\n\u001b[1;32m--> 354\u001b[0m     \u001b[38;5;28mself\u001b[39m\u001b[38;5;241m.\u001b[39merror_handler\u001b[38;5;241m.\u001b[39mcheck_response(response)\n\u001b[0;32m    355\u001b[0m     response[\u001b[38;5;124m\"\u001b[39m\u001b[38;5;124mvalue\u001b[39m\u001b[38;5;124m\"\u001b[39m] \u001b[38;5;241m=\u001b[39m \u001b[38;5;28mself\u001b[39m\u001b[38;5;241m.\u001b[39m_unwrap_value(response\u001b[38;5;241m.\u001b[39mget(\u001b[38;5;124m\"\u001b[39m\u001b[38;5;124mvalue\u001b[39m\u001b[38;5;124m\"\u001b[39m, \u001b[38;5;28;01mNone\u001b[39;00m))\n\u001b[0;32m    356\u001b[0m     \u001b[38;5;28;01mreturn\u001b[39;00m response\n",
      "File \u001b[1;32m~\\anaconda3\\Lib\\site-packages\\selenium\\webdriver\\remote\\errorhandler.py:229\u001b[0m, in \u001b[0;36mErrorHandler.check_response\u001b[1;34m(self, response)\u001b[0m\n\u001b[0;32m    227\u001b[0m         alert_text \u001b[38;5;241m=\u001b[39m value[\u001b[38;5;124m\"\u001b[39m\u001b[38;5;124malert\u001b[39m\u001b[38;5;124m\"\u001b[39m]\u001b[38;5;241m.\u001b[39mget(\u001b[38;5;124m\"\u001b[39m\u001b[38;5;124mtext\u001b[39m\u001b[38;5;124m\"\u001b[39m)\n\u001b[0;32m    228\u001b[0m     \u001b[38;5;28;01mraise\u001b[39;00m exception_class(message, screen, stacktrace, alert_text)  \u001b[38;5;66;03m# type: ignore[call-arg]  # mypy is not smart enough here\u001b[39;00m\n\u001b[1;32m--> 229\u001b[0m \u001b[38;5;28;01mraise\u001b[39;00m exception_class(message, screen, stacktrace)\n",
      "\u001b[1;31mNoSuchElementException\u001b[0m: Message: no such element: Unable to locate element: {\"method\":\"css selector\",\"selector\":\"[id=\"id_job_title_skills\"]\"}\n  (Session info: chrome=128.0.6613.138); For documentation on this error, please visit: https://www.selenium.dev/documentation/webdriver/troubleshooting/errors#no-such-element-exception\nStacktrace:\n\tGetHandleVerifier [0x00007FF774439412+29090]\n\t(No symbol) [0x00007FF7743AE239]\n\t(No symbol) [0x00007FF77426B1DA]\n\t(No symbol) [0x00007FF7742BEFE7]\n\t(No symbol) [0x00007FF7742BF23C]\n\t(No symbol) [0x00007FF7743097C7]\n\t(No symbol) [0x00007FF7742E672F]\n\t(No symbol) [0x00007FF7743065A2]\n\t(No symbol) [0x00007FF7742E6493]\n\t(No symbol) [0x00007FF7742B09D1]\n\t(No symbol) [0x00007FF7742B1B31]\n\tGetHandleVerifier [0x00007FF77475871D+3302573]\n\tGetHandleVerifier [0x00007FF7747A4243+3612627]\n\tGetHandleVerifier [0x00007FF77479A417+3572135]\n\tGetHandleVerifier [0x00007FF7744F5EB6+801862]\n\t(No symbol) [0x00007FF7743B945F]\n\t(No symbol) [0x00007FF7743B4FB4]\n\t(No symbol) [0x00007FF7743B5140]\n\t(No symbol) [0x00007FF7743A461F]\n\tBaseThreadInitThunk [0x00007FF902BB257D+29]\n\tRtlUserThreadStart [0x00007FF90374AF28+40]\n"
     ]
    }
   ],
   "source": [
    "from selenium.webdriver.common.by import By\n",
    "\n",
    "job_title_field = driver.find_element(By.ID, \"id_job_title_skills\")\n",
    "job_title_field.send_keys(\"Data Scientist\")\n"
   ]
  },
  {
   "cell_type": "code",
   "execution_count": 15,
   "id": "1a364c13-33fd-4dbb-85f4-b9d0785d6e54",
   "metadata": {},
   "outputs": [
    {
     "ename": "NoSuchElementException",
     "evalue": "Message: no such element: Unable to locate element: {\"method\":\"css selector\",\"selector\":\"[id=\"id_location\"]\"}\n  (Session info: chrome=128.0.6613.138); For documentation on this error, please visit: https://www.selenium.dev/documentation/webdriver/troubleshooting/errors#no-such-element-exception\nStacktrace:\n\tGetHandleVerifier [0x00007FF774439412+29090]\n\t(No symbol) [0x00007FF7743AE239]\n\t(No symbol) [0x00007FF77426B1DA]\n\t(No symbol) [0x00007FF7742BEFE7]\n\t(No symbol) [0x00007FF7742BF23C]\n\t(No symbol) [0x00007FF7743097C7]\n\t(No symbol) [0x00007FF7742E672F]\n\t(No symbol) [0x00007FF7743065A2]\n\t(No symbol) [0x00007FF7742E6493]\n\t(No symbol) [0x00007FF7742B09D1]\n\t(No symbol) [0x00007FF7742B1B31]\n\tGetHandleVerifier [0x00007FF77475871D+3302573]\n\tGetHandleVerifier [0x00007FF7747A4243+3612627]\n\tGetHandleVerifier [0x00007FF77479A417+3572135]\n\tGetHandleVerifier [0x00007FF7744F5EB6+801862]\n\t(No symbol) [0x00007FF7743B945F]\n\t(No symbol) [0x00007FF7743B4FB4]\n\t(No symbol) [0x00007FF7743B5140]\n\t(No symbol) [0x00007FF7743A461F]\n\tBaseThreadInitThunk [0x00007FF902BB257D+29]\n\tRtlUserThreadStart [0x00007FF90374AF28+40]\n",
     "output_type": "error",
     "traceback": [
      "\u001b[1;31m---------------------------------------------------------------------------\u001b[0m",
      "\u001b[1;31mNoSuchElementException\u001b[0m                    Traceback (most recent call last)",
      "Cell \u001b[1;32mIn[15], line 1\u001b[0m\n\u001b[1;32m----> 1\u001b[0m location_field \u001b[38;5;241m=\u001b[39m driver\u001b[38;5;241m.\u001b[39mfind_element(By\u001b[38;5;241m.\u001b[39mID, \u001b[38;5;124m\"\u001b[39m\u001b[38;5;124mid_location\u001b[39m\u001b[38;5;124m\"\u001b[39m)\n\u001b[0;32m      2\u001b[0m location_field\u001b[38;5;241m.\u001b[39msend_keys(\u001b[38;5;124m\"\u001b[39m\u001b[38;5;124mBangalore\u001b[39m\u001b[38;5;124m\"\u001b[39m)\n",
      "File \u001b[1;32m~\\anaconda3\\Lib\\site-packages\\selenium\\webdriver\\remote\\webdriver.py:748\u001b[0m, in \u001b[0;36mWebDriver.find_element\u001b[1;34m(self, by, value)\u001b[0m\n\u001b[0;32m    745\u001b[0m     by \u001b[38;5;241m=\u001b[39m By\u001b[38;5;241m.\u001b[39mCSS_SELECTOR\n\u001b[0;32m    746\u001b[0m     value \u001b[38;5;241m=\u001b[39m \u001b[38;5;124mf\u001b[39m\u001b[38;5;124m'\u001b[39m\u001b[38;5;124m[name=\u001b[39m\u001b[38;5;124m\"\u001b[39m\u001b[38;5;132;01m{\u001b[39;00mvalue\u001b[38;5;132;01m}\u001b[39;00m\u001b[38;5;124m\"\u001b[39m\u001b[38;5;124m]\u001b[39m\u001b[38;5;124m'\u001b[39m\n\u001b[1;32m--> 748\u001b[0m \u001b[38;5;28;01mreturn\u001b[39;00m \u001b[38;5;28mself\u001b[39m\u001b[38;5;241m.\u001b[39mexecute(Command\u001b[38;5;241m.\u001b[39mFIND_ELEMENT, {\u001b[38;5;124m\"\u001b[39m\u001b[38;5;124musing\u001b[39m\u001b[38;5;124m\"\u001b[39m: by, \u001b[38;5;124m\"\u001b[39m\u001b[38;5;124mvalue\u001b[39m\u001b[38;5;124m\"\u001b[39m: value})[\u001b[38;5;124m\"\u001b[39m\u001b[38;5;124mvalue\u001b[39m\u001b[38;5;124m\"\u001b[39m]\n",
      "File \u001b[1;32m~\\anaconda3\\Lib\\site-packages\\selenium\\webdriver\\remote\\webdriver.py:354\u001b[0m, in \u001b[0;36mWebDriver.execute\u001b[1;34m(self, driver_command, params)\u001b[0m\n\u001b[0;32m    352\u001b[0m response \u001b[38;5;241m=\u001b[39m \u001b[38;5;28mself\u001b[39m\u001b[38;5;241m.\u001b[39mcommand_executor\u001b[38;5;241m.\u001b[39mexecute(driver_command, params)\n\u001b[0;32m    353\u001b[0m \u001b[38;5;28;01mif\u001b[39;00m response:\n\u001b[1;32m--> 354\u001b[0m     \u001b[38;5;28mself\u001b[39m\u001b[38;5;241m.\u001b[39merror_handler\u001b[38;5;241m.\u001b[39mcheck_response(response)\n\u001b[0;32m    355\u001b[0m     response[\u001b[38;5;124m\"\u001b[39m\u001b[38;5;124mvalue\u001b[39m\u001b[38;5;124m\"\u001b[39m] \u001b[38;5;241m=\u001b[39m \u001b[38;5;28mself\u001b[39m\u001b[38;5;241m.\u001b[39m_unwrap_value(response\u001b[38;5;241m.\u001b[39mget(\u001b[38;5;124m\"\u001b[39m\u001b[38;5;124mvalue\u001b[39m\u001b[38;5;124m\"\u001b[39m, \u001b[38;5;28;01mNone\u001b[39;00m))\n\u001b[0;32m    356\u001b[0m     \u001b[38;5;28;01mreturn\u001b[39;00m response\n",
      "File \u001b[1;32m~\\anaconda3\\Lib\\site-packages\\selenium\\webdriver\\remote\\errorhandler.py:229\u001b[0m, in \u001b[0;36mErrorHandler.check_response\u001b[1;34m(self, response)\u001b[0m\n\u001b[0;32m    227\u001b[0m         alert_text \u001b[38;5;241m=\u001b[39m value[\u001b[38;5;124m\"\u001b[39m\u001b[38;5;124malert\u001b[39m\u001b[38;5;124m\"\u001b[39m]\u001b[38;5;241m.\u001b[39mget(\u001b[38;5;124m\"\u001b[39m\u001b[38;5;124mtext\u001b[39m\u001b[38;5;124m\"\u001b[39m)\n\u001b[0;32m    228\u001b[0m     \u001b[38;5;28;01mraise\u001b[39;00m exception_class(message, screen, stacktrace, alert_text)  \u001b[38;5;66;03m# type: ignore[call-arg]  # mypy is not smart enough here\u001b[39;00m\n\u001b[1;32m--> 229\u001b[0m \u001b[38;5;28;01mraise\u001b[39;00m exception_class(message, screen, stacktrace)\n",
      "\u001b[1;31mNoSuchElementException\u001b[0m: Message: no such element: Unable to locate element: {\"method\":\"css selector\",\"selector\":\"[id=\"id_location\"]\"}\n  (Session info: chrome=128.0.6613.138); For documentation on this error, please visit: https://www.selenium.dev/documentation/webdriver/troubleshooting/errors#no-such-element-exception\nStacktrace:\n\tGetHandleVerifier [0x00007FF774439412+29090]\n\t(No symbol) [0x00007FF7743AE239]\n\t(No symbol) [0x00007FF77426B1DA]\n\t(No symbol) [0x00007FF7742BEFE7]\n\t(No symbol) [0x00007FF7742BF23C]\n\t(No symbol) [0x00007FF7743097C7]\n\t(No symbol) [0x00007FF7742E672F]\n\t(No symbol) [0x00007FF7743065A2]\n\t(No symbol) [0x00007FF7742E6493]\n\t(No symbol) [0x00007FF7742B09D1]\n\t(No symbol) [0x00007FF7742B1B31]\n\tGetHandleVerifier [0x00007FF77475871D+3302573]\n\tGetHandleVerifier [0x00007FF7747A4243+3612627]\n\tGetHandleVerifier [0x00007FF77479A417+3572135]\n\tGetHandleVerifier [0x00007FF7744F5EB6+801862]\n\t(No symbol) [0x00007FF7743B945F]\n\t(No symbol) [0x00007FF7743B4FB4]\n\t(No symbol) [0x00007FF7743B5140]\n\t(No symbol) [0x00007FF7743A461F]\n\tBaseThreadInitThunk [0x00007FF902BB257D+29]\n\tRtlUserThreadStart [0x00007FF90374AF28+40]\n"
     ]
    }
   ],
   "source": [
    "location_field = driver.find_element(By.ID, \"id_location\")\n",
    "location_field.send_keys(\"Bangalore\")"
   ]
  },
  {
   "cell_type": "code",
   "execution_count": 16,
   "id": "a98744f2-5e0b-4f89-a2f3-f9c6889acdb2",
   "metadata": {},
   "outputs": [
    {
     "ename": "AttributeError",
     "evalue": "'WebDriver' object has no attribute 'find_element_by_id'",
     "output_type": "error",
     "traceback": [
      "\u001b[1;31m---------------------------------------------------------------------------\u001b[0m",
      "\u001b[1;31mAttributeError\u001b[0m                            Traceback (most recent call last)",
      "Cell \u001b[1;32mIn[16], line 1\u001b[0m\n\u001b[1;32m----> 1\u001b[0m search_button \u001b[38;5;241m=\u001b[39m driver\u001b[38;5;241m.\u001b[39mfind_element_by_id(\u001b[38;5;124m\"\u001b[39m\u001b[38;5;124msearch_btn\u001b[39m\u001b[38;5;124m\"\u001b[39m)\n\u001b[0;32m      2\u001b[0m search_button\u001b[38;5;241m.\u001b[39mclick()\n",
      "\u001b[1;31mAttributeError\u001b[0m: 'WebDriver' object has no attribute 'find_element_by_id'"
     ]
    }
   ],
   "source": [
    "search_button = driver.find_element_by_id(\"search_btn\")\n",
    "search_button.click()"
   ]
  },
  {
   "cell_type": "code",
   "execution_count": null,
   "id": "ae20b4b4-e0bd-42c2-b925-ecfdc9448f97",
   "metadata": {},
   "outputs": [],
   "source": [
    "job_data = []\n",
    "for i in range(1, 11):\n",
    "    job_card = WebDriverWait(driver, 10).until(\n",
    "        EC.presence_of_element_located((By.XPATH, f\"//*[@id='job_card_{i}']\"))\n",
    "    )\n",
    "    soup = BeautifulSoup(job_card.get_attribute(\"outerHTML\"), \"html.parser\")\n",
    "\n",
    "    job_title = soup.find(\"h2\", class_=\"job_title\").text.strip()\n",
    "    job_location = soup.find(\"span\", class_=\"job_location\").text.strip()\n",
    "    company_name = soup.find(\"span\", class_=\"company_name\").text.strip()\n",
    "    experience_required = soup.find(\"span\", class_=\"experience_required\").text.strip()\n",
    "\n",
    "    job_data.append({\n",
    "        \"Job Title\": job_title,\n",
    "        \"Job Location\": job_location,\n",
    "        \"Company Name\": company_name,\n",
    "        \"Experience Required\": experience_required\n",
    "    })"
   ]
  },
  {
   "cell_type": "code",
   "execution_count": null,
   "id": "547af3ee-0bbf-41ab-9490-12c2c223fea1",
   "metadata": {},
   "outputs": [],
   "source": [
    "df = pd.DataFrame(job_data)\n",
    "print(df)\n",
    "driver.quit()"
   ]
  },
  {
   "cell_type": "code",
   "execution_count": null,
   "id": "6454b222-027e-4de6-a31b-6ac3a9fb5481",
   "metadata": {},
   "outputs": [],
   "source": []
  },
  {
   "cell_type": "code",
   "execution_count": 6,
   "id": "a0a929ae-8329-4645-98f8-e374365576c7",
   "metadata": {},
   "outputs": [],
   "source": [
    "url = \"https://www.flipkart.com/apple-iphone-11-black-64-gb/product-reviews/itm4e5041ba101fd?pid=MOBFWQ6BXGJCEYNY&lid=LSTMOBFWQ6BXGJCEYNYZXSHRJ&marketplace=FLIPKART\"\n",
    "driver = webdriver.Chrome()\n",
    "driver.get(url)"
   ]
  },
  {
   "cell_type": "code",
   "execution_count": 7,
   "id": "f9bf4d3c-dc2c-4d26-9b24-0091e4ad2d46",
   "metadata": {},
   "outputs": [
    {
     "ename": "TimeoutException",
     "evalue": "Message: \nStacktrace:\n\tGetHandleVerifier [0x00007FF774439412+29090]\n\t(No symbol) [0x00007FF7743AE239]\n\t(No symbol) [0x00007FF77426B1DA]\n\t(No symbol) [0x00007FF7742BEFE7]\n\t(No symbol) [0x00007FF7742BF23C]\n\t(No symbol) [0x00007FF7743097C7]\n\t(No symbol) [0x00007FF7742E672F]\n\t(No symbol) [0x00007FF7743065A2]\n\t(No symbol) [0x00007FF7742E6493]\n\t(No symbol) [0x00007FF7742B09D1]\n\t(No symbol) [0x00007FF7742B1B31]\n\tGetHandleVerifier [0x00007FF77475871D+3302573]\n\tGetHandleVerifier [0x00007FF7747A4243+3612627]\n\tGetHandleVerifier [0x00007FF77479A417+3572135]\n\tGetHandleVerifier [0x00007FF7744F5EB6+801862]\n\t(No symbol) [0x00007FF7743B945F]\n\t(No symbol) [0x00007FF7743B4FB4]\n\t(No symbol) [0x00007FF7743B5140]\n\t(No symbol) [0x00007FF7743A461F]\n\tBaseThreadInitThunk [0x00007FF902BB257D+29]\n\tRtlUserThreadStart [0x00007FF90374AF28+40]\n",
     "output_type": "error",
     "traceback": [
      "\u001b[1;31m---------------------------------------------------------------------------\u001b[0m",
      "\u001b[1;31mTimeoutException\u001b[0m                          Traceback (most recent call last)",
      "Cell \u001b[1;32mIn[7], line 1\u001b[0m\n\u001b[1;32m----> 1\u001b[0m see_all_reviews_button \u001b[38;5;241m=\u001b[39m WebDriverWait(driver, \u001b[38;5;241m10\u001b[39m)\u001b[38;5;241m.\u001b[39muntil(\n\u001b[0;32m      2\u001b[0m     EC\u001b[38;5;241m.\u001b[39mpresence_of_element_located((By\u001b[38;5;241m.\u001b[39mXPATH, \u001b[38;5;124m\"\u001b[39m\u001b[38;5;124m//div[@class=\u001b[39m\u001b[38;5;124m'\u001b[39m\u001b[38;5;124m_3v8RuL\u001b[39m\u001b[38;5;124m'\u001b[39m\u001b[38;5;124m]\u001b[39m\u001b[38;5;124m\"\u001b[39m))\n\u001b[0;32m      3\u001b[0m )\n\u001b[0;32m      4\u001b[0m see_all_reviews_button\u001b[38;5;241m.\u001b[39mclick()\n",
      "File \u001b[1;32m~\\anaconda3\\Lib\\site-packages\\selenium\\webdriver\\support\\wait.py:105\u001b[0m, in \u001b[0;36mWebDriverWait.until\u001b[1;34m(self, method, message)\u001b[0m\n\u001b[0;32m    103\u001b[0m     \u001b[38;5;28;01mif\u001b[39;00m time\u001b[38;5;241m.\u001b[39mmonotonic() \u001b[38;5;241m>\u001b[39m end_time:\n\u001b[0;32m    104\u001b[0m         \u001b[38;5;28;01mbreak\u001b[39;00m\n\u001b[1;32m--> 105\u001b[0m \u001b[38;5;28;01mraise\u001b[39;00m TimeoutException(message, screen, stacktrace)\n",
      "\u001b[1;31mTimeoutException\u001b[0m: Message: \nStacktrace:\n\tGetHandleVerifier [0x00007FF774439412+29090]\n\t(No symbol) [0x00007FF7743AE239]\n\t(No symbol) [0x00007FF77426B1DA]\n\t(No symbol) [0x00007FF7742BEFE7]\n\t(No symbol) [0x00007FF7742BF23C]\n\t(No symbol) [0x00007FF7743097C7]\n\t(No symbol) [0x00007FF7742E672F]\n\t(No symbol) [0x00007FF7743065A2]\n\t(No symbol) [0x00007FF7742E6493]\n\t(No symbol) [0x00007FF7742B09D1]\n\t(No symbol) [0x00007FF7742B1B31]\n\tGetHandleVerifier [0x00007FF77475871D+3302573]\n\tGetHandleVerifier [0x00007FF7747A4243+3612627]\n\tGetHandleVerifier [0x00007FF77479A417+3572135]\n\tGetHandleVerifier [0x00007FF7744F5EB6+801862]\n\t(No symbol) [0x00007FF7743B945F]\n\t(No symbol) [0x00007FF7743B4FB4]\n\t(No symbol) [0x00007FF7743B5140]\n\t(No symbol) [0x00007FF7743A461F]\n\tBaseThreadInitThunk [0x00007FF902BB257D+29]\n\tRtlUserThreadStart [0x00007FF90374AF28+40]\n"
     ]
    }
   ],
   "source": [
    "see_all_reviews_button = WebDriverWait(driver, 10).until(\n",
    "    EC.presence_of_element_located((By.XPATH, \"//div[@class='_3v8RuL']\"))\n",
    ")\n",
    "see_all_reviews_button.click()"
   ]
  },
  {
   "cell_type": "code",
   "execution_count": 20,
   "id": "72f67ecd-b196-40af-b858-5c8817ba5c59",
   "metadata": {},
   "outputs": [
    {
     "ename": "SyntaxError",
     "evalue": "expected 'else' after 'if' expression (2982575286.py, line 11)",
     "output_type": "error",
     "traceback": [
      "\u001b[1;36m  Cell \u001b[1;32mIn[20], line 11\u001b[1;36m\u001b[0m\n\u001b[1;33m    review_date = soup.find(\"p\", class_=\"_3LYOAd\").text.strip() if soup.find(\"p\", class=\"_3LYOAd\") else None\u001b[0m\n\u001b[1;37m                  ^\u001b[0m\n\u001b[1;31mSyntaxError\u001b[0m\u001b[1;31m:\u001b[0m expected 'else' after 'if' expression\n"
     ]
    }
   ],
   "source": [
    "for i in range(1, 101):\n",
    "    review_card = WebDriverWait(driver, 10).until(\n",
    "        EC.presence_of_element_located((By.XPATH, f\"//*[@id='review-{i}']\"))\n",
    "    )\n",
    "    soup = BeautifulSoup(review_card.get_attribute(\"outerHTML\"), \"html.parser\")\n",
    "\n",
    "    rating = soup.find(\"div\", class_=\"_3LWZlK _1BLPMq\").text.strip() if soup.find(\"div\", class_=\"_3LWZlK _1BLPMq\") else None\n",
    "    review_title = soup.find(\"p\", class_=\"_2-N8zT\").text.strip() if soup.find(\"p\", class_=\"_2-N8zT\") else None\n",
    "    review_text = soup.find(\"div\", class_=\"t-ZTKy\").text.strip() if soup.find(\"div\", class_=\"t-ZTKy\") else None\n",
    "    reviewer_name = soup.find(\"p\", class_=\"_3LYOAd _3sxSiS\").text.strip() if soup.find(\"p\", class_=\"_3LYOAd _3sxSiS\") else None\n",
    "    review_date = soup.find(\"p\", class_=\"_3LYOAd\").text.strip() if soup.find(\"p\", class=\"_3LYOAd\") else None\n",
    "\n",
    "    reviews_data.append({\n",
    "        \"Rating\": rating,\n",
    "        \"Review Title\": review_title,\n",
    "        \"Review Text\": review_text,\n",
    "        \"Reviewer Name\": reviewer_name,\n",
    "        \"Review Date\": review_date\n",
    "    })"
   ]
  },
  {
   "cell_type": "code",
   "execution_count": null,
   "id": "61c8d027",
   "metadata": {},
   "outputs": [],
   "source": []
  },
  {
   "cell_type": "code",
   "execution_count": null,
   "id": "c453ee3a",
   "metadata": {},
   "outputs": [],
   "source": []
  },
  {
   "cell_type": "code",
   "execution_count": null,
   "id": "612f04c5",
   "metadata": {},
   "outputs": [],
   "source": []
  },
  {
   "cell_type": "code",
   "execution_count": null,
   "id": "3b73ceb5",
   "metadata": {},
   "outputs": [],
   "source": []
  },
  {
   "cell_type": "raw",
   "id": "1feefab2",
   "metadata": {},
   "source": []
  },
  {
   "cell_type": "code",
   "execution_count": 19,
   "id": "42427ef9-120d-472a-a9c0-9596b649857b",
   "metadata": {},
   "outputs": [
    {
     "ename": "NameError",
     "evalue": "name 'reviews_data' is not defined",
     "output_type": "error",
     "traceback": [
      "\u001b[1;31m---------------------------------------------------------------------------\u001b[0m",
      "\u001b[1;31mNameError\u001b[0m                                 Traceback (most recent call last)",
      "Cell \u001b[1;32mIn[19], line 1\u001b[0m\n\u001b[1;32m----> 1\u001b[0m df \u001b[38;5;241m=\u001b[39m pd\u001b[38;5;241m.\u001b[39mDataFrame(reviews_data)\n\u001b[0;32m      2\u001b[0m \u001b[38;5;28mprint\u001b[39m(df)\n\u001b[0;32m      3\u001b[0m driver\u001b[38;5;241m.\u001b[39mquit()\n",
      "\u001b[1;31mNameError\u001b[0m: name 'reviews_data' is not defined"
     ]
    }
   ],
   "source": [
    "df = pd.DataFrame(reviews_data)\n",
    "print(df)\n",
    "driver.quit()"
   ]
  },
  {
   "cell_type": "code",
   "execution_count": null,
   "id": "c3fbc044-11a2-4579-88e7-a9574478a362",
   "metadata": {},
   "outputs": [],
   "source": []
  },
  {
   "cell_type": "code",
   "execution_count": null,
   "id": "f24f9912-b183-461e-ba19-f713a5e43bdf",
   "metadata": {},
   "outputs": [],
   "source": [
    "url = \"https://www.flipkart.com/search?q=sneakers\"\n",
    "driver = webdriver.Chrome()  # Replace with your preferred browser\n",
    "driver.get(url)"
   ]
  },
  {
   "cell_type": "code",
   "execution_count": null,
   "id": "89be4a60-7d53-4b70-9de2-8b3c45c658bb",
   "metadata": {},
   "outputs": [],
   "source": [
    "sneakers_data = []\n",
    "for i in range(1, 101):\n",
    "    sneaker_card = WebDriverWait(driver, 10).until(\n",
    "        EC.presence_of_element_located((By.XPATH, f\"//*[@id='container']//div[{i}]\"))\n",
    "    )\n",
    "    soup = BeautifulSoup(sneaker_card.get_attribute(\"outerHTML\"), \"html.parser\")\n",
    "\n",
    "    brand = soup.find(\"div\", class=\"_2WkVRV\").text.strip()\n",
    "    product_description = soup.find(\"div\", class=\"_3Djpdu\").text.strip()\n",
    "    price = soup.find(\"div\", class=\"_1vC4OE _2rQ-NK\").text.strip()\n",
    "\n",
    "    sneakers_data.append({\n",
    "        \"Brand\": brand,\n",
    "        \"Product Description\": product_description,\n",
    "        \"Price\": price\n",
    "    })\n",
    "\n",
    "# Step 3: Create a dataframe of the scraped sneakers data\n",
    "df = pd.DataFrame(sneakers_data)\n",
    "print(df)\n",
    "\n",
    "# Close the browser\n",
    "driver.quit()"
   ]
  },
  {
   "cell_type": "code",
   "execution_count": null,
   "id": "87e0415e-f11f-42b0-bc99-675dcc87af4b",
   "metadata": {},
   "outputs": [],
   "source": []
  },
  {
   "cell_type": "code",
   "execution_count": null,
   "id": "9fac5986-577c-4865-883c-6d153024d5de",
   "metadata": {},
   "outputs": [],
   "source": [
    "url = \"https://www.amazon.in/\"\n",
    "driver = webdriver.Chrome()  # Replace with your preferred browser\n",
    "driver.get(url)"
   ]
  },
  {
   "cell_type": "code",
   "execution_count": null,
   "id": "35fea361-e2bf-4263-a032-5412f229ca19",
   "metadata": {},
   "outputs": [],
   "source": [
    "search_box = driver.find_element_by_id(\"twotabsearchtextbox\")\n",
    "search_box.send_keys(\"Laptop\")\n",
    "search_box.send_keys(Keys.RETURN)"
   ]
  },
  {
   "cell_type": "code",
   "execution_count": null,
   "id": "438af45b-c58f-4f04-ac33-514621571f1f",
   "metadata": {},
   "outputs": [],
   "source": [
    "cpu_type_filter = WebDriverWait(driver, 10).until(\n",
    "    EC.presence_of_element_located((By.XPATH, \"//span[text()='Intel Core i7']\"))\n",
    ")\n",
    "cpu_type_filter.click()\n",
    "\n",
    "laptops_data = []\n",
    "for i in range(1, 11):\n",
    "    laptop_card = WebDriverWait(driver, 10).until(\n",
    "        EC.presence_of_element_located((By.XPATH, f\"//*[@id='search']//div[{i}]\"))\n",
    "    )\n",
    "    soup = BeautifulSoup(laptop_card.get_attribute(\"outerHTML\"), \"html.parser\")\n",
    "\n",
    "    title = soup.find(\"span\", class=\"a-size-medium a-color-base a-text-normal\").text.strip()\n",
    "    ratings = soup.find(\"span\", class=\"a-icon-alt\").text.strip()\n",
    "    price = soup.find(\"span\", class=\"a-price-whole\").text.strip()\n",
    "\n",
    "    laptops_data.append({\n",
    "        \"Title\": title,\n",
    "        \"Ratings\": ratings,\n",
    "        \"Price\": price\n",
    "    })\n",
    "df = pd.DataFrame(laptops_data)\n",
    "print(df)\n",
    "\n",
    "driver.quit("
   ]
  },
  {
   "cell_type": "code",
   "execution_count": null,
   "id": "d26332df-50d8-432d-b1a7-66824b0d0896",
   "metadata": {},
   "outputs": [],
   "source": []
  },
  {
   "cell_type": "code",
   "execution_count": null,
   "id": "0df88ba4-cf11-4a30-a85e-fc9ccbd4a1e7",
   "metadata": {},
   "outputs": [],
   "source": [
    "url = \"https://www.azquotes.com/\"\n",
    "driver = webdriver.Chrome()  # Replace with your preferred browser\n",
    "driver.get(url)"
   ]
  },
  {
   "cell_type": "code",
   "execution_count": null,
   "id": "fd680742-c20c-4eab-a0d5-93fbacd2fdc5",
   "metadata": {},
   "outputs": [],
   "source": [
    "top_quotes_button = WebDriverWait(driver, 10).until(\n",
    "    EC.presence_of_element_located((By.LINK_TEXT, \"Top Quotes\"))\n",
    ")\n",
    "top_quotes_button.click()"
   ]
  },
  {
   "cell_type": "code",
   "execution_count": null,
   "id": "d9470659-11b3-4068-80d4-841be9e271e5",
   "metadata": {},
   "outputs": [],
   "source": [
    "quotes_data = []\n",
    "for i in range(1, 1001):\n",
    "    quote_card = WebDriverWait(driver, 10).until(\n",
    "        EC.presence_of_element_located((By.XPATH, f\"//*[@id='quotes']//div[{i}]\"))\n",
    "    )\n",
    "    soup = BeautifulSoup(quote_card.get_attribute(\"outerHTML\"), \"html.parser\")\n",
    "\n",
    "    quote = soup.find(\"div\", class=\"quote\").text.strip()\n",
    "    author = soup.find(\"span\", class=\"author\").text.strip()\n",
    "    type_of_quote = soup.find(\"span\", class=\"tag\").text.strip()\n",
    "\n",
    "    quotes_data.append({\n",
    "        \"Quote\": quote,\n",
    "        \"Author\": author,\n",
    "        \"Type of Quote\": type_of_quote\n",
    "    })\n",
    "df = pd.DataFrame(quotes_data)\n",
    "print(df)\n",
    "driver.quit()"
   ]
  },
  {
   "cell_type": "code",
   "execution_count": null,
   "id": "c2db0cf4-ae5f-4a0b-ab55-f399cf5143cb",
   "metadata": {},
   "outputs": [],
   "source": []
  },
  {
   "cell_type": "code",
   "execution_count": null,
   "id": "da152e6a-26a7-4a0d-a6df-79a8b1645679",
   "metadata": {},
   "outputs": [],
   "source": [
    "url = \"https://www.jagranjosh.com/general-knowledge/list-of-all-prime-ministers-of-india-1473165149-1\"\n",
    "driver = webdriver.Chrome()  # Replace with your preferred browser\n",
    "driver.get(url)"
   ]
  },
  {
   "cell_type": "code",
   "execution_count": null,
   "id": "de7c8fdb-bbd7-48a1-b2a0-4fd3b8e3d1d8",
   "metadata": {},
   "outputs": [],
   "source": [
    "PM_data = []\n",
    "table = WebDriverWait(driver, 10).until(\n",
    "    EC.presence_of_element_located((By.XPATH, \"//table[@class='table table-bordered']\"))\n",
    ")\n",
    "soup = BeautifulSoup(table.get_attribute(\"outerHTML\"), \"html.parser\")\n",
    "\n",
    "for row in soup.find_all(\"tr\")[1:]:\n",
    "    cols = row.find_all(\"td\")\n",
    "    name = cols[0].text.strip()\n",
    "    born_dead = cols[1].text.strip()\n",
    "    term_of_office = cols[2].text.strip()\n",
    "    remarks = cols[3].text.strip()\n",
    "\n",
    "    PM_data.append({\n",
    "        \"Name\": name,\n",
    "        \"Born-Dead\": born_dead,\n",
    "        \"Term of Office\": term_of_office,\n",
    "        \"Remarks\": remarks\n",
    "    })\n",
    "df = pd.DataFrame(PM_data)\n",
    "print(df)\n",
    "driver.quit()"
   ]
  },
  {
   "cell_type": "code",
   "execution_count": null,
   "id": "3cdf3b2f-db96-4e76-9f94-46949d861696",
   "metadata": {},
   "outputs": [],
   "source": []
  },
  {
   "cell_type": "code",
   "execution_count": null,
   "id": "db3f1562-0090-4369-81b4-a7f57d325dfa",
   "metadata": {},
   "outputs": [],
   "source": [
    "url = \"https://www.motor1.com/\"\n",
    "driver = webdriver.Chrome()  # Replace with your preferred browser\n",
    "driver.get(url)"
   ]
  },
  {
   "cell_type": "code",
   "execution_count": null,
   "id": "06367203-9dbf-4c50-ba3c-47a18c021864",
   "metadata": {},
   "outputs": [],
   "source": [
    "search_box = driver.find_element_by_id(\"search-input\")\n",
    "search_box.send_keys(\"50 most expensive cars\")\n",
    "search_box.send_keys(Keys.RETURN)\n",
    "\n",
    "search_result = WebDriverWait(driver, 10).until(\n",
    "    EC.presence_of_element_located((By.LINK_TEXT, \"50 Most Expensive Cars In The World\"))\n",
    ")\n",
    "search_result.click()\n",
    "cars_data = []\n",
    "for i in range(1, 51):\n",
    "    car_card = WebDriverWait(driver, 10).until(\n",
    "        EC.presence_of_element_located((By.XPATH, f\"//*[@id='listing']//div[{i}]\"))\n",
    "    )\n",
    "    soup = BeautifulSoup(car_card.get_attribute(\"outerHTML\"), \"html.parser\")\n",
    "\n",
    "    car_name = soup.find(\"h2\", class=\"title\").text.strip()\n",
    "    price = soup.find(\"span\", class=\"price\").text.strip()\n",
    "\n",
    "    cars_data.append({\n",
    "        \"Car Name\": car_name,\n",
    "        \"Price\": price\n",
    "    })\n",
    "df = pd.DataFrame(cars_data)\n",
    "print(df)\n",
    "driver.quit()"
   ]
  },
  {
   "cell_type": "code",
   "execution_count": null,
   "id": "e5161a54-21bf-4504-a087-f586f79ae68a",
   "metadata": {},
   "outputs": [],
   "source": []
  },
  {
   "cell_type": "code",
   "execution_count": null,
   "id": "27ea9b77",
   "metadata": {},
   "outputs": [],
   "source": []
  },
  {
   "cell_type": "code",
   "execution_count": null,
   "id": "b444f253",
   "metadata": {},
   "outputs": [],
   "source": []
  }
 ],
 "metadata": {
  "kernelspec": {
   "display_name": "Python 3 (ipykernel)",
   "language": "python",
   "name": "python3"
  },
  "language_info": {
   "codemirror_mode": {
    "name": "ipython",
    "version": 3
   },
   "file_extension": ".py",
   "mimetype": "text/x-python",
   "name": "python",
   "nbconvert_exporter": "python",
   "pygments_lexer": "ipython3",
   "version": "3.11.5"
  }
 },
 "nbformat": 4,
 "nbformat_minor": 5
}
