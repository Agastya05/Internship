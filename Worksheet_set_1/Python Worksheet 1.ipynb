{
 "cells": [
  {
   "cell_type": "markdown",
   "id": "c6e25c90",
   "metadata": {},
   "source": [
    "### Q1: Which of the following operators is used to calculate remainder in a division?\n",
    "###  Answer: C) %"
   ]
  },
  {
   "cell_type": "code",
   "execution_count": 2,
   "id": "f5ef3cbb",
   "metadata": {},
   "outputs": [
    {
     "data": {
      "text/plain": [
       "1"
      ]
     },
     "execution_count": 2,
     "metadata": {},
     "output_type": "execute_result"
    }
   ],
   "source": [
    "#Code Q1\n",
    "remainder = 10 % 3\n",
    "remainder"
   ]
  },
  {
   "cell_type": "markdown",
   "id": "bc2270d3",
   "metadata": {},
   "source": [
    "### Q2: In python 2//3 is equal to? \n",
    "### Answer: B) 0"
   ]
  },
  {
   "cell_type": "code",
   "execution_count": 3,
   "id": "16fc8b5c",
   "metadata": {},
   "outputs": [
    {
     "data": {
      "text/plain": [
       "0"
      ]
     },
     "execution_count": 3,
     "metadata": {},
     "output_type": "execute_result"
    }
   ],
   "source": [
    "#Code Q2\n",
    "result = 2 // 3\n",
    "result\n"
   ]
  },
  {
   "cell_type": "markdown",
   "id": "79ba30ef",
   "metadata": {},
   "source": [
    "### Q3: In python, 6<<2 is equal to? \n",
    "### Answer: C) 24\n"
   ]
  },
  {
   "cell_type": "code",
   "execution_count": 4,
   "id": "adf5ef01",
   "metadata": {},
   "outputs": [
    {
     "data": {
      "text/plain": [
       "24"
      ]
     },
     "execution_count": 4,
     "metadata": {},
     "output_type": "execute_result"
    }
   ],
   "source": [
    "#Code Q3\n",
    "\n",
    "6<<2"
   ]
  },
  {
   "cell_type": "markdown",
   "id": "61a30028",
   "metadata": {},
   "source": [
    "### Q4: In python, 6&2 will give which of the following as output? \n"
   ]
  },
  {
   "cell_type": "code",
   "execution_count": 5,
   "id": "47f6d96c",
   "metadata": {},
   "outputs": [
    {
     "data": {
      "text/plain": [
       "2"
      ]
     },
     "execution_count": 5,
     "metadata": {},
     "output_type": "execute_result"
    }
   ],
   "source": [
    "6&2"
   ]
  },
  {
   "cell_type": "markdown",
   "id": "de56bf94",
   "metadata": {},
   "source": [
    "### Q5: In python, 6|2 will give which of the following as output? \n"
   ]
  },
  {
   "cell_type": "code",
   "execution_count": 6,
   "id": "f3785623",
   "metadata": {},
   "outputs": [
    {
     "data": {
      "text/plain": [
       "6"
      ]
     },
     "execution_count": 6,
     "metadata": {},
     "output_type": "execute_result"
    }
   ],
   "source": [
    "6|2"
   ]
  },
  {
   "cell_type": "markdown",
   "id": "976d1e23",
   "metadata": {},
   "source": [
    "### Q6: What does the finally keyword denotes in python? \n",
    "### Answer: C) the finally block will be executed no matter if the try block raises an error or not."
   ]
  },
  {
   "cell_type": "markdown",
   "id": "43b9e6c8",
   "metadata": {},
   "source": [
    "### Q7: What does raise keyword is used for in python? \n",
    "### Answer 7: A) It is used to raise an exception."
   ]
  },
  {
   "cell_type": "code",
   "execution_count": null,
   "id": "62d53162",
   "metadata": {},
   "outputs": [],
   "source": [
    "raise ValueError(\"This is an error message\")\n"
   ]
  },
  {
   "cell_type": "markdown",
   "id": "30b5df67",
   "metadata": {},
   "source": [
    "### Q8: Which of the following is a common use case of yield keyword in python? \n",
    "### Answer 8: C) in defining a generator "
   ]
  },
  {
   "cell_type": "markdown",
   "id": "2eca77ee",
   "metadata": {},
   "source": [
    "### Q9: Which of the following are the valid variable names? \n",
    "### Answer 9: A) _abc and C) abc2"
   ]
  },
  {
   "cell_type": "markdown",
   "id": "c3461763",
   "metadata": {},
   "source": [
    "### Q10: Which of the following are the keywords in python? \n",
    "### Answers: A) yield and  B) raise "
   ]
  },
  {
   "cell_type": "markdown",
   "id": "5e5f4b3f",
   "metadata": {},
   "source": [
    "### Q11. Write a python program to find the factorial of a number. \n"
   ]
  },
  {
   "cell_type": "code",
   "execution_count": 7,
   "id": "bc86cea4",
   "metadata": {},
   "outputs": [
    {
     "name": "stdout",
     "output_type": "stream",
     "text": [
      "Enter a number: 10\n",
      "Factorial of 10 is 3628800\n"
     ]
    }
   ],
   "source": [
    "def factorial(n):\n",
    "    if n == 0:\n",
    "        return 1\n",
    "    else:\n",
    "        return n * factorial(n-1)\n",
    "\n",
    "number = int(input(\"Enter a number: \"))\n",
    "print(\"Factorial of\", number, \"is\", factorial(number))\n"
   ]
  },
  {
   "cell_type": "markdown",
   "id": "5390bde8",
   "metadata": {},
   "source": [
    "### Q12. Write a python program to find whether a number is prime or composite. "
   ]
  },
  {
   "cell_type": "code",
   "execution_count": 12,
   "id": "3a7c07a6",
   "metadata": {},
   "outputs": [
    {
     "name": "stdout",
     "output_type": "stream",
     "text": [
      "Enter a number: 17\n",
      "17 is a prime number\n"
     ]
    }
   ],
   "source": [
    "\n",
    "num = int(input(\"Enter a number: \"))\n",
    "if num > 1:\n",
    "    for i in range(2, (num // 2) + 1):\n",
    "        if (num % i) == 0:\n",
    "            print(num, \"is Composite Number\")\n",
    "            break\n",
    "    else:\n",
    "        print(num, \"is a prime number\")\n",
    "else:\n",
    "    print(num, \"is Composite Number\")\n",
    "\n"
   ]
  },
  {
   "cell_type": "code",
   "execution_count": 14,
   "id": "27de9ba6",
   "metadata": {},
   "outputs": [
    {
     "name": "stdout",
     "output_type": "stream",
     "text": [
      "Enter a number: 16\n",
      "16 is Composite Number\n"
     ]
    }
   ],
   "source": [
    "\n",
    "num = int(input(\"Enter a number: \"))\n",
    "if num > 1:\n",
    "    for i in range(2, (num // 2) + 1):\n",
    "        if (num % i) == 0:\n",
    "            print(num, \"is Composite Number\")\n",
    "            break\n",
    "    else:\n",
    "        print(num, \"is a prime number\")\n",
    "else:\n",
    "    print(num, \"is Composite Number\")\n"
   ]
  },
  {
   "cell_type": "markdown",
   "id": "84554981",
   "metadata": {},
   "source": [
    "### Q13. Write a python program to check whether a given string is palindrome or not. \n"
   ]
  },
  {
   "cell_type": "code",
   "execution_count": 15,
   "id": "2eeb8349",
   "metadata": {},
   "outputs": [
    {
     "name": "stdout",
     "output_type": "stream",
     "text": [
      "Enter a string: maam\n",
      "maam is a palindrome\n"
     ]
    }
   ],
   "source": [
    "def is_palindrome(s):\n",
    "    return s == s[::-1]\n",
    "\n",
    "string = input(\"Enter a string: \")\n",
    "if is_palindrome(string):\n",
    "    print(string, \"is a palindrome\")\n",
    "else:\n",
    "    print(string, \"is not a palindrome\")\n"
   ]
  },
  {
   "cell_type": "code",
   "execution_count": 16,
   "id": "bc966314",
   "metadata": {},
   "outputs": [
    {
     "name": "stdout",
     "output_type": "stream",
     "text": [
      "Enter a string: Python\n",
      "Python is not a palindrome\n"
     ]
    }
   ],
   "source": [
    "def is_palindrome(s):\n",
    "    return s == s[::-1]\n",
    "\n",
    "string = input(\"Enter a string: \")\n",
    "if is_palindrome(string):\n",
    "    print(string, \"is a palindrome\")\n",
    "else:\n",
    "    print(string, \"is not a palindrome\")"
   ]
  },
  {
   "cell_type": "markdown",
   "id": "2bc8684b",
   "metadata": {},
   "source": [
    "### Q14. Write a Python program to get the third side of right-angled triangle from two given sides. \n",
    "#### a^2 + b^2 = c^2 [ addition of sides squared = to hypotenuse squared]"
   ]
  },
  {
   "cell_type": "code",
   "execution_count": 24,
   "id": "985c615d",
   "metadata": {},
   "outputs": [
    {
     "name": "stdout",
     "output_type": "stream",
     "text": [
      "Enter side a (or 0 if unknown): 5\n",
      "Enter side b (or 0 if unknown): 12\n",
      "Enter the hypotenuse c (or 0 if unknown): 0\n",
      "The length of the missing side is: 13.00\n"
     ]
    }
   ],
   "source": [
    "import numpy as np\n",
    "\n",
    "def find_third_side(a, b, c):\n",
    "    if c == 0:\n",
    "        return np.sqrt(a**2 + b**2)\n",
    "    elif a == 0:\n",
    "        return np.sqrt(c**2 - b**2)\n",
    "    elif b == 0:\n",
    "        return np.sqrt(c**2 - a**2)\n",
    "    else:\n",
    "        raise ValueError(\"One of the sides must be zero to find the third side.\")\n",
    "        \n",
    "a = float(input(\"Enter side a (or 0 if unknown): \"))\n",
    "b = float(input(\"Enter side b (or 0 if unknown): \"))\n",
    "c = float(input(\"Enter the hypotenuse c (or 0 if unknown): \"))\n",
    "\n",
    "try:\n",
    "    third_side = find_third_side(a, b, c)\n",
    "    print(f\"The length of the missing side is: {third_side:.2f}\")\n",
    "except ValueError as e:\n",
    "    print(e)\n"
   ]
  },
  {
   "cell_type": "markdown",
   "id": "39dfa00e",
   "metadata": {},
   "source": [
    "### Q15. Write a python program to print the frequency of each of the characters present in a given string. "
   ]
  },
  {
   "cell_type": "code",
   "execution_count": 25,
   "id": "40183626",
   "metadata": {},
   "outputs": [
    {
     "name": "stdout",
     "output_type": "stream",
     "text": [
      "Enter a string: 1,2,2,3,3,6,6,4,5,5,8,9,9\n",
      "Character frequencies:\n",
      "'1': 1\n",
      "',': 12\n",
      "'2': 2\n",
      "'3': 2\n",
      "'6': 2\n",
      "'4': 1\n",
      "'5': 2\n",
      "'8': 1\n",
      "'9': 2\n"
     ]
    }
   ],
   "source": [
    "# Function to calculate character frequencies\n",
    "def character_frequency(s):\n",
    "    # Create an empty dictionary to store frequencies\n",
    "    freq = {}\n",
    "    \n",
    "    # Iterate over each character in the string\n",
    "    for char in s:\n",
    "        if char in freq:\n",
    "            freq[char] += 1\n",
    "        else:\n",
    "            freq[char] = 1\n",
    "    \n",
    "    return freq\n",
    "\n",
    "# Get user input\n",
    "input_string = input(\"Enter a string: \")\n",
    "\n",
    "# Calculate and print the frequencies\n",
    "frequencies = character_frequency(input_string)\n",
    "\n",
    "print(\"Character frequencies:\")\n",
    "for char, count in frequencies.items():\n",
    "    print(f\"'{char}': {count}\")\n"
   ]
  },
  {
   "cell_type": "code",
   "execution_count": null,
   "id": "d1cb2e7d",
   "metadata": {},
   "outputs": [],
   "source": []
  },
  {
   "cell_type": "code",
   "execution_count": null,
   "id": "c3c2558f",
   "metadata": {},
   "outputs": [],
   "source": []
  }
 ],
 "metadata": {
  "kernelspec": {
   "display_name": "Python 3 (ipykernel)",
   "language": "python",
   "name": "python3"
  },
  "language_info": {
   "codemirror_mode": {
    "name": "ipython",
    "version": 3
   },
   "file_extension": ".py",
   "mimetype": "text/x-python",
   "name": "python",
   "nbconvert_exporter": "python",
   "pygments_lexer": "ipython3",
   "version": "3.11.5"
  }
 },
 "nbformat": 4,
 "nbformat_minor": 5
}
